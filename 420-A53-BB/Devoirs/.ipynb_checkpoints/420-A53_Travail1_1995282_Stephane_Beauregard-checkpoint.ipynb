{
 "cells": [
  {
   "cell_type": "markdown",
   "metadata": {},
   "source": [
    "**Cours : 420-A53-BB**  \n",
    "**Nom : Stéphane Beauregard**  \n",
    "**\\#DA : 1995282**  \n",
    "\n",
    "## <center>Travail #1</center>"
   ]
  },
  {
   "cell_type": "markdown",
   "metadata": {},
   "source": [
    "**Énoncé** : Modification du projet IMC incluant une classe Patient (nom, age, poids, taille)"
   ]
  },
  {
   "cell_type": "markdown",
   "metadata": {},
   "source": [
    "### 1. Saisi des informations du patient"
   ]
  },
  {
   "cell_type": "code",
   "execution_count": 1,
   "metadata": {},
   "outputs": [],
   "source": [
    "def saisir_info_patient():\n",
    "    nom = input(\"Quel est votre nom ? : \")\n",
    "    age = input(\"Quel age avez-vous ? : \")\n",
    "    poids = float(input(\"Quelle est votre poids(masse) en kg ? : \"))\n",
    "    taille = float(input(\"Quelle est votre taille en m ? : \"))\n",
    "    return nom, age, poids, taille"
   ]
  },
  {
   "cell_type": "code",
   "execution_count": 2,
   "metadata": {},
   "outputs": [
    {
     "name": "stdout",
     "output_type": "stream",
     "text": [
      "Quel est votre nom ? : Steph\n",
      "Quel age avez-vous ? : 40\n",
      "Quelle est votre poids(masse) en kg ? : 75\n",
      "Quelle est votre taille en m ? : 1.87\n"
     ]
    }
   ],
   "source": [
    "nom, age, poids, taille = saisir_info_patient()"
   ]
  },
  {
   "cell_type": "markdown",
   "metadata": {},
   "source": [
    "### 2. Création de la classe `Patient`"
   ]
  },
  {
   "cell_type": "code",
   "execution_count": 3,
   "metadata": {},
   "outputs": [],
   "source": [
    "class Patient:\n",
    "    def __init__(self,nom,age,poids,taille):\n",
    "        self.nom = nom\n",
    "        self.age = age\n",
    "        self.poids = poids\n",
    "        self.taille = taille\n",
    "\n",
    "    def __str__(self):\n",
    "        return \"Nom : {}, Age : {}, Poids : {}, Taille : {}\"\\\n",
    "                .format(self.nom,self.age,self.poids,self.taille)"
   ]
  },
  {
   "cell_type": "code",
   "execution_count": 4,
   "metadata": {},
   "outputs": [
    {
     "name": "stdout",
     "output_type": "stream",
     "text": [
      "Nom : Steph, Age : 40, Poids : 75.0, Taille : 1.87\n"
     ]
    }
   ],
   "source": [
    "p = Patient(nom,age,poids,taille)\n",
    "print(p)"
   ]
  },
  {
   "cell_type": "markdown",
   "metadata": {},
   "source": [
    "### 3. Création de la classe `imc` initialisé par un objet de classe `Patient`"
   ]
  },
  {
   "cell_type": "code",
   "execution_count": 5,
   "metadata": {},
   "outputs": [],
   "source": [
    "class imc:\n",
    "    def __init__(self,patient:Patient):\n",
    "        #Patient.__init__(self,nom,age,poids,taille)\n",
    "        self.nom = patient.nom\n",
    "        self.age = patient.age\n",
    "        self.poids = patient.poids\n",
    "        self.taille = patient.taille\n",
    "        self.initialiser_classification_imc()\n",
    "        self.calculer_imc()\n",
    "        self.calculer_numero_classe_imc()\n",
    "\n",
    "    def initialiser_classification_imc(self):\n",
    "        self.risque = [\"Accru\",\"Moindre\",\"Accru\",\"Élevé\",\"Très élevé\",\"Extrêmement élevé\"]\n",
    "        self.classification = [\"Poids insuffisant\",\"Poids normal\",\"Excès de poids\",\"Obésité, classe I\",\"Obésité, classe II\",\"Obésité, classe III\"]\n",
    "        self.imc_val = [18.5,25,30,35,40,float(\"inf\")]\n",
    "\n",
    "    def calculer_imc(self):\n",
    "        self.imc = self.poids/(self.taille**2)\n",
    "\n",
    "    def obtenir_imc(self):\n",
    "        return self.imc\n",
    "\n",
    "    def affiche_imc(self):\n",
    "        self.calculer_imc()\n",
    "        print(\"L'imc de {} est {:.2f} kg/m^2.\".format(self.nom,self.obtenir_imc()))\n",
    "\n",
    "    def calculer_numero_classe_imc(self):\n",
    "        for position in range(len(self.imc_val)):\n",
    "            if self.imc < self.imc_val[position]:\n",
    "                break\n",
    "        self.numero_classe_imc = position\n",
    "\n",
    "    def obtenir_numero_classe_imc(self):\n",
    "        return self.numero_classe_imc\n",
    "\n",
    "    def afficher_classe_imc(self):\n",
    "        print(\"Classification : {}\".format(self.classification[self.obtenir_numero_classe_imc()]))\n",
    "        print(\"Risques : {}\".format(self.risque[self.obtenir_numero_classe_imc()]))"
   ]
  },
  {
   "cell_type": "code",
   "execution_count": 6,
   "metadata": {},
   "outputs": [],
   "source": [
    "# Création de l'objet pimc de classe imc à partir de l'objet p de\n",
    "# classe Patient\n",
    "pimc = imc(p)"
   ]
  },
  {
   "cell_type": "code",
   "execution_count": 7,
   "metadata": {},
   "outputs": [
    {
     "name": "stdout",
     "output_type": "stream",
     "text": [
      "L'imc de Steph est 21.45 kg/m^2.\n",
      "Classification : Poids normal\n",
      "Risques : Moindre\n"
     ]
    }
   ],
   "source": [
    "pimc.affiche_imc()\n",
    "pimc.afficher_classe_imc()"
   ]
  },
  {
   "cell_type": "code",
   "execution_count": null,
   "metadata": {},
   "outputs": [],
   "source": []
  }
 ],
 "metadata": {
  "kernelspec": {
   "display_name": "Python 3",
   "language": "python",
   "name": "python3"
  },
  "language_info": {
   "codemirror_mode": {
    "name": "ipython",
    "version": 3
   },
   "file_extension": ".py",
   "mimetype": "text/x-python",
   "name": "python",
   "nbconvert_exporter": "python",
   "pygments_lexer": "ipython3",
   "version": "3.7.1"
  }
 },
 "nbformat": 4,
 "nbformat_minor": 2
}
